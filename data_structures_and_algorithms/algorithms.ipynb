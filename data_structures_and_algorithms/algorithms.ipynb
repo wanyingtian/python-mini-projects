{
 "cells": [
  {
   "attachments": {},
   "cell_type": "markdown",
   "metadata": {},
   "source": [
    "# Algorithms in Python\n",
    "- Naive Search Algorithms"
   ]
  },
  {
   "attachments": {},
   "cell_type": "markdown",
   "metadata": {},
   "source": [
    "1. Naive Search Algorithms\n",
    "* Time complexity: O(n*k), worse case: O(n^2)\n",
    "* code challenges at [link](https://www.codecademy.com/courses/learn-data-structures-and-algorithms-with-python/articles/code-challenge-naive-pattern-search)"
   ]
  },
  {
   "cell_type": "code",
   "execution_count": 7,
   "metadata": {},
   "outputs": [
    {
     "name": "stdout",
     "output_type": "stream",
     "text": [
      "NEEDLE found at index 6\n",
      "NEEDLE found at index 21\n",
      "NEEDLE found at index 39\n"
     ]
    }
   ],
   "source": [
    "def pattern_search(text, pattern):\n",
    "  for index in range(len(text)):\n",
    "    match_count = 0\n",
    "    for char in range(len(pattern)): \n",
    "      if pattern[char] == text[index + char]:\n",
    "        match_count += 1\n",
    "      else:\n",
    "        break\n",
    "    if match_count == len(pattern):\n",
    "      print(pattern, \"found at index\", index)\n",
    "\n",
    "text = \"HAYHAYNEEDLEHAYHAYHAYNEEDLEHAYHAYHAYHAYNEEDLE\"\n",
    "pattern = \"NEEDLE\"\n",
    "pattern_search(text, pattern)"
   ]
  },
  {
   "attachments": {},
   "cell_type": "markdown",
   "metadata": {},
   "source": [
    "2. Bubble Sort\n",
    "O(n^2)"
   ]
  },
  {
   "cell_type": "code",
   "execution_count": 8,
   "metadata": {},
   "outputs": [
    {
     "name": "stdout",
     "output_type": "stream",
     "text": [
      "PRE SORT: [9, 8, 7, 6, 5, 4, 3, 2, 1]\n",
      "PRE-OPTIMIZED ITERATION COUNT: 72\n",
      "POST-OPTIMIZED ITERATION COUNT: 36\n",
      "POST SORT: [1, 2, 3, 4, 5, 6, 7, 8, 9]\n"
     ]
    }
   ],
   "source": [
    "nums = [9, 8, 7, 6, 5, 4, 3, 2, 1]\n",
    "print(\"PRE SORT: {0}\".format(nums))\n",
    "\n",
    "def swap(arr, index_1, index_2):\n",
    "  temp = arr[index_1]\n",
    "  arr[index_1] = arr[index_2]\n",
    "  arr[index_2] = temp\n",
    "\n",
    "def bubble_sort_unoptimized(arr):\n",
    "  iteration_count = 0\n",
    "  for el in arr:\n",
    "    for index in range(len(arr) - 1):\n",
    "      iteration_count += 1\n",
    "      if arr[index] > arr[index + 1]:\n",
    "        swap(arr, index, index + 1)\n",
    "\n",
    "  print(\"PRE-OPTIMIZED ITERATION COUNT: {0}\".format(iteration_count))\n",
    "\n",
    "def bubble_sort(arr):\n",
    "  iteration_count = 0\n",
    "  for i in range(len(arr)):\n",
    "    # iterate through unplaced elements\n",
    "    for idx in range(len(arr) - i - 1):\n",
    "      iteration_count += 1\n",
    "      if arr[idx] > arr[idx + 1]:\n",
    "        # replacement for swap function\n",
    "        arr[idx], arr[idx + 1] = arr[idx + 1], arr[idx]\n",
    "        \n",
    "  print(\"POST-OPTIMIZED ITERATION COUNT: {0}\".format(iteration_count))\n",
    "\n",
    "bubble_sort_unoptimized(nums.copy())\n",
    "bubble_sort(nums)\n",
    "print(\"POST SORT: {0}\".format(nums))"
   ]
  }
 ],
 "metadata": {
  "kernelspec": {
   "display_name": "minienv",
   "language": "python",
   "name": "python3"
  },
  "language_info": {
   "codemirror_mode": {
    "name": "ipython",
    "version": 3
   },
   "file_extension": ".py",
   "mimetype": "text/x-python",
   "name": "python",
   "nbconvert_exporter": "python",
   "pygments_lexer": "ipython3",
   "version": "3.10.9"
  },
  "orig_nbformat": 4
 },
 "nbformat": 4,
 "nbformat_minor": 2
}
