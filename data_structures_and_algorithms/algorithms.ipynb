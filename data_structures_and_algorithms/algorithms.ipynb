{
 "cells": [
  {
   "attachments": {},
   "cell_type": "markdown",
   "metadata": {},
   "source": [
    "# Algorithms in Python\n",
    "- Naive Search Algorithms"
   ]
  },
  {
   "attachments": {},
   "cell_type": "markdown",
   "metadata": {},
   "source": [
    "1. Naive Search Algorithms\n",
    "* Time complexity: O(n*k), worse case: O(n^2)\n",
    "- Space complexity: O(1)\n",
    "* code challenges at [link](https://www.codecademy.com/courses/learn-data-structures-and-algorithms-with-python/articles/code-challenge-naive-pattern-search)"
   ]
  },
  {
   "cell_type": "code",
   "execution_count": 2,
   "metadata": {},
   "outputs": [
    {
     "name": "stdout",
     "output_type": "stream",
     "text": [
      "NEEDLE found at index 6\n",
      "NEEDLE found at index 21\n",
      "NEEDLE found at index 39\n"
     ]
    }
   ],
   "source": [
    "def pattern_search(text, pattern):\n",
    "  for index in range(len(text)):\n",
    "    match_count = 0\n",
    "    for char in range(len(pattern)): \n",
    "      if pattern[char] == text[index + char]:\n",
    "        match_count += 1\n",
    "      else:\n",
    "        break\n",
    "    if match_count == len(pattern):\n",
    "      print(pattern, \"found at index\", index)\n",
    "\n",
    "text = \"HAYHAYNEEDLEHAYHAYHAYNEEDLEHAYHAYHAYHAYNEEDLE\"\n",
    "pattern = \"NEEDLE\"\n",
    "pattern_search(text, pattern)"
   ]
  },
  {
   "attachments": {},
   "cell_type": "markdown",
   "metadata": {},
   "source": [
    "2. Bubble Sort\n",
    "- Time complexity: O(n(n-1)) = O(n^2)\n",
    "- Space complexity: O(1)"
   ]
  },
  {
   "cell_type": "code",
   "execution_count": 3,
   "metadata": {},
   "outputs": [
    {
     "name": "stdout",
     "output_type": "stream",
     "text": [
      "PRE SORT: [9, 8, 7, 6, 5, 4, 3, 2, 1]\n",
      "PRE-OPTIMIZED ITERATION COUNT: 72\n",
      "POST-OPTIMIZED ITERATION COUNT: 36\n",
      "POST SORT: [1, 2, 3, 4, 5, 6, 7, 8, 9]\n"
     ]
    }
   ],
   "source": [
    "nums = [9, 8, 7, 6, 5, 4, 3, 2, 1]\n",
    "print(\"PRE SORT: {0}\".format(nums))\n",
    "\n",
    "def swap(arr, index_1, index_2):\n",
    "  temp = arr[index_1]\n",
    "  arr[index_1] = arr[index_2]\n",
    "  arr[index_2] = temp\n",
    "\n",
    "def bubble_sort_unoptimized(arr):\n",
    "  iteration_count = 0\n",
    "  for el in arr:\n",
    "    for index in range(len(arr) - 1):\n",
    "      iteration_count += 1\n",
    "      if arr[index] > arr[index + 1]:\n",
    "        swap(arr, index, index + 1)\n",
    "\n",
    "  print(\"PRE-OPTIMIZED ITERATION COUNT: {0}\".format(iteration_count))\n",
    "\n",
    "def bubble_sort(arr):\n",
    "  iteration_count = 0\n",
    "  for i in range(len(arr)):\n",
    "    # iterate through unplaced elements\n",
    "    for idx in range(len(arr) - i - 1):\n",
    "      iteration_count += 1\n",
    "      if arr[idx] > arr[idx + 1]:\n",
    "        # replacement for swap function\n",
    "        arr[idx], arr[idx + 1] = arr[idx + 1], arr[idx]\n",
    "        \n",
    "  print(\"POST-OPTIMIZED ITERATION COUNT: {0}\".format(iteration_count))\n",
    "\n",
    "bubble_sort_unoptimized(nums.copy())\n",
    "bubble_sort(nums)\n",
    "print(\"POST SORT: {0}\".format(nums))"
   ]
  },
  {
   "attachments": {},
   "cell_type": "markdown",
   "metadata": {},
   "source": [
    "3. Merge Sort\n",
    "- Time complexity: O(N logN)\n",
    "- Space complexity: O(N)"
   ]
  },
  {
   "cell_type": "code",
   "execution_count": 4,
   "metadata": {},
   "outputs": [
    {
     "name": "stdout",
     "output_type": "stream",
     "text": [
      "[125, 264, 356, 455, 569, 746, 895, 949]\n",
      "[19, 113, 180, 201, 202, 268, 276, 318, 370, 373, 391, 403, 534, 543, 571, 595, 624, 677, 717, 770, 787, 795, 975]\n",
      "[147, 151, 380, 387, 439, 542, 585, 743, 820, 860, 865, 924]\n"
     ]
    }
   ],
   "source": [
    "def merge_sort(items):\n",
    "  if len(items) <= 1:\n",
    "    return items\n",
    "\n",
    "  middle_index = len(items) // 2\n",
    "  left_split = items[:middle_index]\n",
    "  right_split = items[middle_index:]\n",
    "\n",
    "  left_sorted = merge_sort(left_split)\n",
    "  right_sorted = merge_sort(right_split)\n",
    "\n",
    "  return merge(left_sorted, right_sorted)\n",
    "\n",
    "def merge(left, right):\n",
    "  result = []\n",
    "\n",
    "  while (left and right):\n",
    "    if left[0] < right[0]:\n",
    "      result.append(left[0])\n",
    "      left.pop(0)\n",
    "    else:\n",
    "      result.append(right[0])\n",
    "      right.pop(0)\n",
    "\n",
    "  if left:\n",
    "    result += left\n",
    "  if right:\n",
    "    result += right\n",
    "\n",
    "  return result\n",
    "\n",
    "unordered_list1 = [356, 746, 264, 569, 949, 895, 125, 455]\n",
    "unordered_list2 = [787, 677, 391, 318, 543, 717, 180, 113, 795, 19, 202, 534, 201, 370, 276, 975, 403, 624, 770, 595, 571, 268, 373]\n",
    "unordered_list3 = [860, 380, 151, 585, 743, 542, 147, 820, 439, 865, 924, 387]\n",
    "\n",
    "ordered_list1 = merge_sort(unordered_list1)\n",
    "ordered_list2 = merge_sort(unordered_list2)\n",
    "ordered_list3 = merge_sort(unordered_list3)\n",
    "print(ordered_list1)\n",
    "print(ordered_list2)\n",
    "print(ordered_list3)"
   ]
  },
  {
   "attachments": {},
   "cell_type": "markdown",
   "metadata": {},
   "source": [
    "4. Quick Sort\n",
    "* Time Complexity : in general, O(NLogN), worst case, O(N^2)\n",
    "* Space Complexity: O(N)\n",
    "\n",
    "1. We established a base case where the algorithm will complete when the start and end pointers indicate a list with one or zero elements\n",
    "2. If we haven’t hit the base case, we randomly selected an element as the pivot and swapped it to the end of the list\n",
    "3. We then iterate through that list and track all the “lesser than” elements by swapping them with the iteration index and incrementing a lesser_than_pointer.\n",
    "4. Once we’ve iterated through the list, we swap the pivot element with the element located at lesser_than_pointer.\n",
    "5. With the list partitioned into two sub-lists, we repeat the process on both halves until base cases are met."
   ]
  },
  {
   "cell_type": "code",
   "execution_count": 5,
   "metadata": {},
   "outputs": [
    {
     "name": "stdout",
     "output_type": "stream",
     "text": [
      "PRE SORT:  [4, 5, 3, 2, 1, 6, 8, 7]\n",
      "Running quicksort on [4, 5, 3, 2, 1, 6, 8, 7]\n",
      "Selected pivot 3\n",
      "Swapping 2 with 4\n",
      "Swapping 1 with 5\n",
      "[2, 1, 3, 4, 5, 6, 8, 7] successfully partitioned\n",
      "Running quicksort on [2, 1]\n",
      "Selected pivot 2\n",
      "Swapping 1 with 1\n",
      "[1, 2] successfully partitioned\n",
      "Running quicksort on [4, 5, 6, 8, 7]\n",
      "Selected pivot 8\n",
      "Swapping 4 with 4\n",
      "Swapping 5 with 5\n",
      "Swapping 6 with 6\n",
      "Swapping 7 with 7\n",
      "[4, 5, 6, 7, 8] successfully partitioned\n",
      "Running quicksort on [4, 5, 6, 7]\n",
      "Selected pivot 4\n",
      "[4, 5, 6, 7] successfully partitioned\n",
      "Running quicksort on [5, 6, 7]\n",
      "Selected pivot 5\n",
      "[5, 6, 7] successfully partitioned\n",
      "Running quicksort on [6, 7]\n",
      "Selected pivot 6\n",
      "[6, 7] successfully partitioned\n",
      "None\n",
      "POST SORT:  [1, 2, 3, 4, 5, 6, 7, 8]\n"
     ]
    }
   ],
   "source": [
    "from random import randrange, shuffle\n",
    "\n",
    "def quicksort(list, start, end):\n",
    "  # this portion of list has been sorted\n",
    "  if start >= end:\n",
    "    return\n",
    "  print(\"Running quicksort on {0}\".format(list[start: end + 1]))\n",
    "  # select random element to be pivot\n",
    "  pivot_idx = randrange(start, end + 1)\n",
    "  pivot_element = list[pivot_idx]\n",
    "  print(\"Selected pivot {0}\".format(pivot_element))\n",
    "  # swap random element with last element in sub-lists\n",
    "  list[end], list[pivot_idx] = list[pivot_idx], list[end]\n",
    "\n",
    "  # tracks all elements which should be to left (lesser than) pivot\n",
    "  less_than_pointer = start\n",
    "  \n",
    "  for i in range(start, end):\n",
    "    # we found an element out of place\n",
    "    if list[i] < pivot_element:\n",
    "      # swap element to the right-most portion of lesser elements\n",
    "      print(\"Swapping {0} with {1}\".format(list[i], list[less_than_pointer]))\n",
    "      list[i], list[less_than_pointer] = list[less_than_pointer], list[i]\n",
    "      # tally that we have one more lesser element\n",
    "      less_than_pointer += 1\n",
    "  # move pivot element to the right-most portion of lesser elements\n",
    "  list[end], list[less_than_pointer] = list[less_than_pointer], list[end]\n",
    "  print(\"{0} successfully partitioned\".format(list[start: end + 1]))\n",
    "  # recursively sort left and right sub-lists\n",
    "  quicksort(list, start, less_than_pointer - 1)\n",
    "  quicksort(list, less_than_pointer + 1, end)\n",
    "\n",
    "\n",
    "    \n",
    "  \n",
    "list = [5,3,1,7,4,6,2,8]\n",
    "shuffle(list)\n",
    "print(\"PRE SORT: \", list)\n",
    "print(quicksort(list, 0, len(list) -1))\n",
    "print(\"POST SORT: \", list)\n"
   ]
  },
  {
   "attachments": {},
   "cell_type": "markdown",
   "metadata": {},
   "source": [
    "### Sorting Algorithm Runtimes\n",
    "There are many different sorting algorithms, but the three we focused on were bubble sort, merge sort, and quicksort. They all have pros and cons when it comes to their efficiency. Let’s take a quick dive into each one!\n",
    "\n",
    "Asymptotic Notation Refresher\n",
    "As a reminder, when we need a more general way to gauge a program’s runtime, we use asymptotic notation.\n",
    "\n",
    "Instead of timing a program, through asymptotic notation, we can calculate a program’s runtime by looking at how many instructions the computer has to perform based on the size of the program’s input: n. We also use this when calculating the amount of space a certain program will need.\n",
    "\n",
    "#### Bubble Sort\n",
    "Bubble sort is an introductory sorting algorithm that iterates through a list and compares pairings of adjacent elements. According to the sorting criteria, the algorithm swaps elements to shift elements towards the beginning or end of the list.\n",
    "\n",
    "Bubble sort is known for not being the most efficient of the sorting algorithms. If the list is completely sorted before the algorithm is called, it still has to look through each element to make sure, which is linear time.\n",
    "\n",
    "#### Merge Sort\n",
    "Merge sort is a divide-and-conquer sorting algorithm that breaks the list-to-be-sorted into smaller parts. In a divide-and-conquer algorithm, the data is continually broken down into smaller elements until sorting them becomes incredibly simple.\n",
    "\n",
    "It’s important to note that merge sort makes a copy of the entire list during its process, meaning it does not sort in place, which adds to the space complexity.\n",
    "\n",
    "#### Quicksort\n",
    "Quicksort is an efficient algorithm. A single element, the pivot, is chosen from the list. All the remaining values are partitioned into two sub-lists containing the values smaller than and greater than the pivot element. When the dividing step returns sub-lists that have one or fewer elements, each sub-list is sorted. The sub-lists are recombined, or swaps are made in the original array, to produce a sorted list of values.\n",
    "\n",
    "Ideally, this process of dividing the array will produce sub-lists of nearly equal length, otherwise, the runtime of the algorithm suffers.\n",
    "\n",
    "#### Comparisons\n",
    "Take a look at the table below to see the best, average, and worst runtimes, as well as space complexities for our sorting algorithms:\n",
    "\n",
    "-           Algorithm       Best Case\t    Worst Case\t    Average Case    Space Complexity\n",
    "-           Bubble Sort\t    Ω(n)        O(n^2)          O(n^2)\t           O(1)\n",
    "-           Merge Sort      Ω(n log n)      O(n log n)      O(n log n)\t   O(n)\n",
    "-           Quicksort       Ω(n log n)      O(n^2)          O(n log n)\t   O(log n)\n",
    "\n",
    "\n",
    "These sorting algorithms can be used as-is or as a foundation for more complicated and specialized algorithms.\n"
   ]
  }
 ],
 "metadata": {
  "kernelspec": {
   "display_name": "minienv",
   "language": "python",
   "name": "python3"
  },
  "language_info": {
   "codemirror_mode": {
    "name": "ipython",
    "version": 3
   },
   "file_extension": ".py",
   "mimetype": "text/x-python",
   "name": "python",
   "nbconvert_exporter": "python",
   "pygments_lexer": "ipython3",
   "version": "3.10.9"
  },
  "orig_nbformat": 4
 },
 "nbformat": 4,
 "nbformat_minor": 2
}
