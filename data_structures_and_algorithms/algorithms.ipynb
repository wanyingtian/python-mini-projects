{
 "cells": [
  {
   "attachments": {},
   "cell_type": "markdown",
   "metadata": {},
   "source": [
    "# Algorithms in Python\n",
    "- Naive Search Algorithms"
   ]
  },
  {
   "attachments": {},
   "cell_type": "markdown",
   "metadata": {},
   "source": [
    "1. Naive Search Algorithms\n",
    "* Time complexity: O(n*k), worse case: O(n^2)\n",
    "- Space complexity: O(1)\n",
    "* code challenges at [link](https://www.codecademy.com/courses/learn-data-structures-and-algorithms-with-python/articles/code-challenge-naive-pattern-search)"
   ]
  },
  {
   "cell_type": "code",
   "execution_count": 11,
   "metadata": {},
   "outputs": [
    {
     "name": "stdout",
     "output_type": "stream",
     "text": [
      "NEEDLE found at index 6\n",
      "NEEDLE found at index 21\n",
      "NEEDLE found at index 39\n"
     ]
    }
   ],
   "source": [
    "def pattern_search(text, pattern):\n",
    "  for index in range(len(text)):\n",
    "    match_count = 0\n",
    "    for char in range(len(pattern)): \n",
    "      if pattern[char] == text[index + char]:\n",
    "        match_count += 1\n",
    "      else:\n",
    "        break\n",
    "    if match_count == len(pattern):\n",
    "      print(pattern, \"found at index\", index)\n",
    "\n",
    "text = \"HAYHAYNEEDLEHAYHAYHAYNEEDLEHAYHAYHAYHAYNEEDLE\"\n",
    "pattern = \"NEEDLE\"\n",
    "pattern_search(text, pattern)"
   ]
  },
  {
   "attachments": {},
   "cell_type": "markdown",
   "metadata": {},
   "source": [
    "2. Bubble Sort\n",
    "- Time complexity: O(n(n-1)) = O(n^2)\n",
    "- Space complexity: O(1)"
   ]
  },
  {
   "cell_type": "code",
   "execution_count": 12,
   "metadata": {},
   "outputs": [
    {
     "name": "stdout",
     "output_type": "stream",
     "text": [
      "PRE SORT: [9, 8, 7, 6, 5, 4, 3, 2, 1]\n",
      "PRE-OPTIMIZED ITERATION COUNT: 72\n",
      "POST-OPTIMIZED ITERATION COUNT: 36\n",
      "POST SORT: [1, 2, 3, 4, 5, 6, 7, 8, 9]\n"
     ]
    }
   ],
   "source": [
    "nums = [9, 8, 7, 6, 5, 4, 3, 2, 1]\n",
    "print(\"PRE SORT: {0}\".format(nums))\n",
    "\n",
    "def swap(arr, index_1, index_2):\n",
    "  temp = arr[index_1]\n",
    "  arr[index_1] = arr[index_2]\n",
    "  arr[index_2] = temp\n",
    "\n",
    "def bubble_sort_unoptimized(arr):\n",
    "  iteration_count = 0\n",
    "  for el in arr:\n",
    "    for index in range(len(arr) - 1):\n",
    "      iteration_count += 1\n",
    "      if arr[index] > arr[index + 1]:\n",
    "        swap(arr, index, index + 1)\n",
    "\n",
    "  print(\"PRE-OPTIMIZED ITERATION COUNT: {0}\".format(iteration_count))\n",
    "\n",
    "def bubble_sort(arr):\n",
    "  iteration_count = 0\n",
    "  for i in range(len(arr)):\n",
    "    # iterate through unplaced elements\n",
    "    for idx in range(len(arr) - i - 1):\n",
    "      iteration_count += 1\n",
    "      if arr[idx] > arr[idx + 1]:\n",
    "        # replacement for swap function\n",
    "        arr[idx], arr[idx + 1] = arr[idx + 1], arr[idx]\n",
    "        \n",
    "  print(\"POST-OPTIMIZED ITERATION COUNT: {0}\".format(iteration_count))\n",
    "\n",
    "bubble_sort_unoptimized(nums.copy())\n",
    "bubble_sort(nums)\n",
    "print(\"POST SORT: {0}\".format(nums))"
   ]
  },
  {
   "attachments": {},
   "cell_type": "markdown",
   "metadata": {},
   "source": [
    "3. Merge Sort\n",
    "- Time complexity: O(N logN)\n",
    "- Space complexity: O(N)"
   ]
  },
  {
   "cell_type": "code",
   "execution_count": 13,
   "metadata": {},
   "outputs": [
    {
     "name": "stdout",
     "output_type": "stream",
     "text": [
      "[125, 264, 356, 455, 569, 746, 895, 949]\n",
      "[19, 113, 180, 201, 202, 268, 276, 318, 370, 373, 391, 403, 534, 543, 571, 595, 624, 677, 717, 770, 787, 795, 975]\n",
      "[147, 151, 380, 387, 439, 542, 585, 743, 820, 860, 865, 924]\n"
     ]
    }
   ],
   "source": [
    "def merge_sort(items):\n",
    "  if len(items) <= 1:\n",
    "    return items\n",
    "\n",
    "  middle_index = len(items) // 2\n",
    "  left_split = items[:middle_index]\n",
    "  right_split = items[middle_index:]\n",
    "\n",
    "  left_sorted = merge_sort(left_split)\n",
    "  right_sorted = merge_sort(right_split)\n",
    "\n",
    "  return merge(left_sorted, right_sorted)\n",
    "\n",
    "def merge(left, right):\n",
    "  result = []\n",
    "\n",
    "  while (left and right):\n",
    "    if left[0] < right[0]:\n",
    "      result.append(left[0])\n",
    "      left.pop(0)\n",
    "    else:\n",
    "      result.append(right[0])\n",
    "      right.pop(0)\n",
    "\n",
    "  if left:\n",
    "    result += left\n",
    "  if right:\n",
    "    result += right\n",
    "\n",
    "  return result\n",
    "\n",
    "unordered_list1 = [356, 746, 264, 569, 949, 895, 125, 455]\n",
    "unordered_list2 = [787, 677, 391, 318, 543, 717, 180, 113, 795, 19, 202, 534, 201, 370, 276, 975, 403, 624, 770, 595, 571, 268, 373]\n",
    "unordered_list3 = [860, 380, 151, 585, 743, 542, 147, 820, 439, 865, 924, 387]\n",
    "\n",
    "ordered_list1 = merge_sort(unordered_list1)\n",
    "ordered_list2 = merge_sort(unordered_list2)\n",
    "ordered_list3 = merge_sort(unordered_list3)\n",
    "print(ordered_list1)\n",
    "print(ordered_list2)\n",
    "print(ordered_list3)"
   ]
  }
 ],
 "metadata": {
  "kernelspec": {
   "display_name": "minienv",
   "language": "python",
   "name": "python3"
  },
  "language_info": {
   "codemirror_mode": {
    "name": "ipython",
    "version": 3
   },
   "file_extension": ".py",
   "mimetype": "text/x-python",
   "name": "python",
   "nbconvert_exporter": "python",
   "pygments_lexer": "ipython3",
   "version": "3.10.9"
  },
  "orig_nbformat": 4
 },
 "nbformat": 4,
 "nbformat_minor": 2
}
